{
 "cells": [
  {
   "cell_type": "markdown",
   "metadata": {},
   "source": [
    "# OilyGiant oil extraction company <a class=\"tocSkip\"></a>\n",
    "\n",
    "Predicting the volume of reserves and maximizing expected profits "
   ]
  },
  {
   "cell_type": "markdown",
   "metadata": {},
   "source": [
    "## Resumen de la revisión 1 <a class=\"tocSkip\"></a>"
   ]
  },
  {
   "cell_type": "markdown",
   "metadata": {},
   "source": [
    "----"
   ]
  },
  {
   "cell_type": "markdown",
   "metadata": {},
   "source": [
    "### Introducción."
   ]
  },
  {
   "cell_type": "markdown",
   "metadata": {},
   "source": [
    "En este proyecto vamos a trabajar con los datos de la compañía de extracción de petróleo OilyGiant. \n",
    "\n",
    "Nuestra tarea es encontrar los mejores lugares donde abrir 200 pozos nuevos de petróleo.\n",
    "\n",
    "Tenemos los datos sobre muestras de crudo de tres regiones. Debemos crear un modelo que ayude a elegir la región con el mayor margen de beneficio. Además de analizar los beneficios y riesgos potenciales utilizando la técnica bootstrapping."
   ]
  },
  {
   "cell_type": "markdown",
   "metadata": {},
   "source": [
    "### Inicialización y carga de datos. "
   ]
  },
  {
   "cell_type": "markdown",
   "metadata": {},
   "source": [
    "Primero procedemos a importar Librerías:"
   ]
  },
  {
   "cell_type": "code",
   "execution_count": 1,
   "metadata": {},
   "outputs": [],
   "source": [
    "# Cargamos todas las librerías que ocuparemos en el proyecto:\n",
    "import pandas as pd # importamos las librerías de pandas\n",
    "from matplotlib import pyplot as plt # importamos las librerías pyplot de Matplotlib\n",
    "import numpy as np # importamos la librerías de NumPy, se usa para funciones matemáticas complejas\n",
    "from scipy import stats as st # importamos el módulo stats de la librería SciPy.\n",
    "import seaborn as sns # importamos la librería Seaborn para realizar unos gráficos\n",
    "sns.set_theme() # ocupamos esa librería para tener meejores gráficos\n",
    "from sklearn.model_selection import train_test_split #importamos la función train_test_split biblioteca scikit-learn\n",
    "from sklearn.utils import shuffle # importamos la función shuffle de la biblioteca scikit-learn\n",
    "from sklearn.linear_model import LinearRegression\n",
    "from sklearn.metrics import mean_squared_error"
   ]
  },
  {
   "cell_type": "markdown",
   "metadata": {},
   "source": [
    "Leemos los Conjunto de Datos (DataFrames) con los datos de exploración geológica de las tres regiones:"
   ]
  },
  {
   "cell_type": "code",
   "execution_count": 2,
   "metadata": {},
   "outputs": [],
   "source": [
    "# Cargamos el DataFrame:\n",
    "data_0 = pd.read_csv('/datasets/geo_data_0.csv') #cargamos el DataFrame.\n",
    "data_1 = pd.read_csv('/datasets/geo_data_1.csv') #cargamos el DataFrame.\n",
    "data_2 = pd.read_csv('/datasets/geo_data_2.csv') #cargamos el DataFrame."
   ]
  },
  {
   "cell_type": "markdown",
   "metadata": {},
   "source": [
    "### Preprocesamiento de los datos. "
   ]
  },
  {
   "cell_type": "markdown",
   "metadata": {},
   "source": [
    "Primero vamos a revisar la información general de los Conjuntos de Datos de cada una de las regiones."
   ]
  },
  {
   "cell_type": "code",
   "execution_count": 3,
   "metadata": {},
   "outputs": [
    {
     "name": "stdout",
     "output_type": "stream",
     "text": [
      "<class 'pandas.core.frame.DataFrame'>\n",
      "RangeIndex: 100000 entries, 0 to 99999\n",
      "Data columns (total 5 columns):\n",
      " #   Column   Non-Null Count   Dtype  \n",
      "---  ------   --------------   -----  \n",
      " 0   id       100000 non-null  object \n",
      " 1   f0       100000 non-null  float64\n",
      " 2   f1       100000 non-null  float64\n",
      " 3   f2       100000 non-null  float64\n",
      " 4   product  100000 non-null  float64\n",
      "dtypes: float64(4), object(1)\n",
      "memory usage: 3.8+ MB\n",
      "----------\n",
      "      id        f0        f1        f2     product\n",
      "0  txEyH  0.705745 -0.497823  1.221170  105.280062\n",
      "1  2acmU  1.334711 -0.340164  4.365080   73.037750\n",
      "2  409Wp  1.022732  0.151990  1.419926   85.265647\n",
      "3  iJLyR -0.032172  0.139033  2.978566  168.620776\n",
      "4  Xdl7t  1.988431  0.155413  4.751769  154.036647\n"
     ]
    }
   ],
   "source": [
    "# Imprimimos la información general/resumida del DataFrame data_0.\n",
    "data_0.info() # llamamos al parámetro info para conocer la información general/resumida del DataFrame.\n",
    "print('----------')\n",
    "print(data_0.head()) # imprimimos las primeras líneas para ver el conjunto de datos."
   ]
  },
  {
   "cell_type": "code",
   "execution_count": 4,
   "metadata": {},
   "outputs": [
    {
     "name": "stdout",
     "output_type": "stream",
     "text": [
      "<class 'pandas.core.frame.DataFrame'>\n",
      "RangeIndex: 100000 entries, 0 to 99999\n",
      "Data columns (total 5 columns):\n",
      " #   Column   Non-Null Count   Dtype  \n",
      "---  ------   --------------   -----  \n",
      " 0   id       100000 non-null  object \n",
      " 1   f0       100000 non-null  float64\n",
      " 2   f1       100000 non-null  float64\n",
      " 3   f2       100000 non-null  float64\n",
      " 4   product  100000 non-null  float64\n",
      "dtypes: float64(4), object(1)\n",
      "memory usage: 3.8+ MB\n",
      "----------\n",
      "      id         f0         f1        f2     product\n",
      "0  kBEdx -15.001348  -8.276000 -0.005876    3.179103\n",
      "1  62mP7  14.272088  -3.475083  0.999183   26.953261\n",
      "2  vyE1P   6.263187  -5.948386  5.001160  134.766305\n",
      "3  KcrkZ -13.081196 -11.506057  4.999415  137.945408\n",
      "4  AHL4O  12.702195  -8.147433  5.004363  134.766305\n"
     ]
    }
   ],
   "source": [
    "# Imprimimos la información general/resumida sobre del DataFrame data_1.\n",
    "data_1.info() # llamamos al parámetro info para conocer la información general/resumida del DataFrame.\n",
    "print('----------')\n",
    "print(data_1.head()) # imprimimos las primeras líneas para ver el conjunto de datos."
   ]
  },
  {
   "cell_type": "code",
   "execution_count": 5,
   "metadata": {},
   "outputs": [
    {
     "name": "stdout",
     "output_type": "stream",
     "text": [
      "<class 'pandas.core.frame.DataFrame'>\n",
      "RangeIndex: 100000 entries, 0 to 99999\n",
      "Data columns (total 5 columns):\n",
      " #   Column   Non-Null Count   Dtype  \n",
      "---  ------   --------------   -----  \n",
      " 0   id       100000 non-null  object \n",
      " 1   f0       100000 non-null  float64\n",
      " 2   f1       100000 non-null  float64\n",
      " 3   f2       100000 non-null  float64\n",
      " 4   product  100000 non-null  float64\n",
      "dtypes: float64(4), object(1)\n",
      "memory usage: 3.8+ MB\n",
      "----------\n",
      "      id        f0        f1        f2     product\n",
      "0  fwXo0 -1.146987  0.963328 -0.828965   27.758673\n",
      "1  WJtFt  0.262778  0.269839 -2.530187   56.069697\n",
      "2  ovLUW  0.194587  0.289035 -5.586433   62.871910\n",
      "3  q6cA6  2.236060 -0.553760  0.930038  114.572842\n",
      "4  WPMUX -0.515993  1.716266  5.899011  149.600746\n"
     ]
    }
   ],
   "source": [
    "# Imprimimos la información general/resumida sobre del DataFrame data_2.\n",
    "data_2.info() # llamamos al parámetro info para conocer la información general/resumida del DataFrame.\n",
    "print('----------')\n",
    "print(data_2.head()) # imprimimos las primeras líneas para ver el conjunto de datos."
   ]
  },
  {
   "cell_type": "markdown",
   "metadata": {},
   "source": [
    "En base al método info podemos ver que los tres Conjuntos de Datos se encuentra conformados por 5 columnas de variables. Todas corresponden a variables numéricas salvo la columna id, identificador único de pozo de petróleo, que es del tipo string.\n",
    "\n",
    "Por otro lado, al parecer no tenemos presencia de valores ausentes, lo cual confirmaremos más adelante."
   ]
  },
  {
   "cell_type": "code",
   "execution_count": 6,
   "metadata": {},
   "outputs": [
    {
     "name": "stdout",
     "output_type": "stream",
     "text": [
      "                  f0             f1             f2        product\n",
      "count  100000.000000  100000.000000  100000.000000  100000.000000\n",
      "mean        0.500419       0.250143       2.502647      92.500000\n",
      "std         0.871832       0.504433       3.248248      44.288691\n",
      "min        -1.408605      -0.848218     -12.088328       0.000000\n",
      "25%        -0.072580      -0.200881       0.287748      56.497507\n",
      "50%         0.502360       0.250252       2.515969      91.849972\n",
      "75%         1.073581       0.700646       4.715088     128.564089\n",
      "max         2.362331       1.343769      16.003790     185.364347\n",
      "------------------\n",
      "                  f0             f1             f2        product\n",
      "count  100000.000000  100000.000000  100000.000000  100000.000000\n",
      "mean        1.141296      -4.796579       2.494541      68.825000\n",
      "std         8.965932       5.119872       1.703572      45.944423\n",
      "min       -31.609576     -26.358598      -0.018144       0.000000\n",
      "25%        -6.298551      -8.267985       1.000021      26.953261\n",
      "50%         1.153055      -4.813172       2.011479      57.085625\n",
      "75%         8.621015      -1.332816       3.999904     107.813044\n",
      "max        29.421755      18.734063       5.019721     137.945408\n",
      "------------------\n",
      "                  f0             f1             f2        product\n",
      "count  100000.000000  100000.000000  100000.000000  100000.000000\n",
      "mean        0.002023      -0.002081       2.495128      95.000000\n",
      "std         1.732045       1.730417       3.473445      44.749921\n",
      "min        -8.760004      -7.084020     -11.970335       0.000000\n",
      "25%        -1.162288      -1.174820       0.130359      59.450441\n",
      "50%         0.009424      -0.009482       2.484236      94.925613\n",
      "75%         1.158535       1.163678       4.858794     130.595027\n",
      "max         7.238262       7.844801      16.739402     190.029838\n",
      "------------------\n"
     ]
    }
   ],
   "source": [
    "# Ocupamos el métod describe para para realizar una exploración rápida inicial de las variables numéricas\n",
    "# de los tres Conjuntos de datos, cada uno de ellos corresponde a una región.\n",
    "print(data_0.describe())\n",
    "print('------------------')\n",
    "print(data_1.describe())\n",
    "print('------------------')\n",
    "print(data_2.describe())\n",
    "print('------------------')"
   ]
  },
  {
   "cell_type": "markdown",
   "metadata": {},
   "source": [
    "Si revisamos las estadísticas descriptivas que nos entrega el método describe, podemos indicar que:\n",
    "\n",
    "Región 0 (data_0):\n",
    "\n",
    "product: La media de reservas es de 92.5 miles de barriles, con un máximo de 185.36 miles de barriles.\n",
    "\n",
    "Región 1 (data_1):\n",
    "\n",
    "product: La media de reservas es de 68.83 miles de barriles, con un máximo de 137.95 miles de barriles.\n",
    "\n",
    "Región 2 (data_2):\n",
    "\n",
    "product: La media de reservas es de 95 miles de barriles, con un máximo de 190.03 miles de barriles.\n",
    "\n",
    "\n",
    "Estas diferencias en las estadísticas descriptivas pueden influir en el rendimiento de nuestros modelos."
   ]
  },
  {
   "cell_type": "code",
   "execution_count": 7,
   "metadata": {},
   "outputs": [
    {
     "name": "stdout",
     "output_type": "stream",
     "text": [
      "El número de filas totalmente duplicadas en el Conjunto de datos Región 0 es: 0\n",
      "El número de filas totalmente duplicadas en el Conjunto de datos Región 1 es: 0\n",
      "El número de filas totalmente duplicadas en el Conjunto de datos Región 2 es: 0\n",
      "------------------\n",
      "Valores ausentes Región 0 id         0\n",
      "f0         0\n",
      "f1         0\n",
      "f2         0\n",
      "product    0\n",
      "dtype: int64\n",
      "------------------\n",
      "Valores ausentes Región 1 id         0\n",
      "f0         0\n",
      "f1         0\n",
      "f2         0\n",
      "product    0\n",
      "dtype: int64\n",
      "------------------\n",
      "Valores ausentes Región 2 id         0\n",
      "f0         0\n",
      "f1         0\n",
      "f2         0\n",
      "product    0\n",
      "dtype: int64\n",
      "------------------\n"
     ]
    }
   ],
   "source": [
    "# Verificamos que no hay filas totalmente duplicadas en ninguno de los Dataframes: \n",
    "print('El número de filas totalmente duplicadas en el Conjunto de datos Región 0 es:', data_0.duplicated().sum())\n",
    "print('El número de filas totalmente duplicadas en el Conjunto de datos Región 1 es:', data_1.duplicated().sum())\n",
    "print('El número de filas totalmente duplicadas en el Conjunto de datos Región 2 es:', data_2.duplicated().sum())\n",
    "print('------------------')\n",
    "\n",
    "#Verificamos que no hay valores ausentes en ninguno de los Dataframes.\n",
    "print(\"Valores ausentes Región 0\", data_0.isna().sum())\n",
    "print('------------------')\n",
    "print(\"Valores ausentes Región 1\", data_1.isna().sum())\n",
    "print('------------------')\n",
    "print(\"Valores ausentes Región 2\", data_2.isna().sum())\n",
    "print('------------------')"
   ]
  },
  {
   "cell_type": "markdown",
   "metadata": {},
   "source": [
    "Verificamos que no existen filas totalmente duplicadas no valores ausentes en ninguno de los tres DataFrames."
   ]
  },
  {
   "cell_type": "markdown",
   "metadata": {},
   "source": [
    "### Segmentación de los datos DataFrame Región 0 (data_0)."
   ]
  },
  {
   "cell_type": "markdown",
   "metadata": {},
   "source": [
    "Vamos a trabajar primero con el DataFrame data_0, para el cual vamos a dividir sus datos en un conjunto de entrenamiento y un conjunto de validación en una proporción de 75:25. En el paso siguiente, vamos a generar una\n",
    "función para realizar esto mismo para los 3 Conjuntos de datos."
   ]
  },
  {
   "cell_type": "code",
   "execution_count": 8,
   "metadata": {},
   "outputs": [],
   "source": [
    "# El dataset data_0 se divide se divide en el conjunto de entrenamiento (train) y conjunto de validación (valid)\n",
    "target = 'product'\n",
    "entity_columns = ['id']\n",
    "features = [f for f in data_0.columns if f not in [target] + entity_columns]\n",
    "\n",
    "train, valid = train_test_split(data_0, test_size=0.25, random_state=88)"
   ]
  },
  {
   "cell_type": "code",
   "execution_count": 9,
   "metadata": {},
   "outputs": [
    {
     "data": {
      "text/plain": [
       "['f0', 'f1', 'f2']"
      ]
     },
     "execution_count": 9,
     "metadata": {},
     "output_type": "execute_result"
    }
   ],
   "source": [
    "# Comprobamos que están correctas las caraterísticas (features), que son todos menos las variable objetivo y\n",
    "# y la columna id.\n",
    "features"
   ]
  },
  {
   "cell_type": "code",
   "execution_count": 10,
   "metadata": {},
   "outputs": [
    {
     "name": "stdout",
     "output_type": "stream",
     "text": [
      "Forma del Dataframe: (100000, 5)\n",
      "Forma del conjunto de entrenamiento: (75000, 3)\n",
      "Forma del conjunto de validación: (25000, 3)\n"
     ]
    }
   ],
   "source": [
    "# Imprimimos las formas (shapes) de los conjuntos de datos resultantes, para verificar sus tamaños.\n",
    "print(\"Forma del Dataframe:\", data_0.shape)\n",
    "print(\"Forma del conjunto de entrenamiento:\", train[features].shape)\n",
    "print(\"Forma del conjunto de validación:\", valid[features].shape)"
   ]
  },
  {
   "cell_type": "markdown",
   "metadata": {},
   "source": [
    "Mediante este método shape() confirmamos el tamaño del conjunto de entrenamiento de 75% y el conjunto de validación de 25%."
   ]
  },
  {
   "cell_type": "code",
   "execution_count": 11,
   "metadata": {},
   "outputs": [
    {
     "data": {
      "text/plain": [
       "[1.0, 0.75, 0.25]"
      ]
     },
     "execution_count": 11,
     "metadata": {},
     "output_type": "execute_result"
    }
   ],
   "source": [
    "[len (df)/ len (data_0) for df in [data_0, train, valid]]"
   ]
  },
  {
   "cell_type": "markdown",
   "metadata": {},
   "source": [
    "Mediante este cálculo confirmamos los porcentajes de cada conjunto, vemos que el conjunto de entrenamiento tiene un 75% del total y que el conjunto de validación tiene un 25%%  del total."
   ]
  },
  {
   "cell_type": "markdown",
   "metadata": {},
   "source": [
    "### Entrenamiento y Pruebas del Modelo en cada Conjunto de Datos. "
   ]
  },
  {
   "cell_type": "markdown",
   "metadata": {},
   "source": [
    "A continuación vamos a entrenar el modelo y realizar predicciones para el conjunto de validación para el dataFrame data_0. \n",
    "\n",
    "De acuerdo a lo indicado en las condiciones, usaremos la regresión lineal para el entrenamiento del modelo.\n",
    "Además procederemos a evaluar el modelo, calculando el RMSE, el volumen medio del conjunto de validación y volumen medio de reservas predicho. \n",
    "\n",
    "Para luego generar una función de manera de realizarlo para los 3 Conjuntos de datos."
   ]
  },
  {
   "cell_type": "code",
   "execution_count": 12,
   "metadata": {},
   "outputs": [
    {
     "name": "stdout",
     "output_type": "stream",
     "text": [
      "\n",
      "Mean target (valid): 92.3657\n",
      "Mean prediction: 92.616\n",
      "RMSE: 37.3769\n",
      "\n"
     ]
    }
   ],
   "source": [
    "# Creamos el Modelo de Regresión Lineal.\n",
    "model_0 = LinearRegression()\n",
    "\n",
    "# Entrenamos el modelo\n",
    "model_0.fit(train[features], train[target])\n",
    "\n",
    " # Hacemos predicciones\n",
    "preds_0 = model_0.predict(valid[features])\n",
    "\n",
    "# Evaluamos el modelo\n",
    "print(f\"\"\"\n",
    "Mean target (valid): {round(valid[target].mean(), 4)}\n",
    "Mean prediction: {round(preds_0.mean(), 4)}\n",
    "RMSE: {round(mean_squared_error(valid[target], preds_0)**0.5, 4)}\n",
    "\"\"\")"
   ]
  },
  {
   "cell_type": "markdown",
   "metadata": {},
   "source": [
    "A continuación generamos una función que realice los pasos anteriores de segmentación de los datos, entrenar el modelo y realizar predicciones para cada uno de las 3 regiones. Además, ocuparemos esta función para\n",
    "calcular el RMSE, el volumen medio del comnjunto de validación y volumen medio de reservas predicho."
   ]
  },
  {
   "cell_type": "code",
   "execution_count": 13,
   "metadata": {},
   "outputs": [
    {
     "name": "stdout",
     "output_type": "stream",
     "text": [
      "Región 0 - RMSE: 37.3769, Mean target (valid): 92.3657, Mean prediction: 92.616\n",
      "Región 1 - RMSE: 0.8976, Mean target (valid): 68.8505, Mean prediction: 68.8414\n",
      "Región 2 - RMSE: 40.1576, Mean target (valid): 94.9646, Mean prediction: 95.1852\n"
     ]
    }
   ],
   "source": [
    "def train_and_evaluate(data):\n",
    "    # Dividimos los datos y hacemos una copia independiente\n",
    "    target = 'product'\n",
    "    entity_columns = ['id']\n",
    "    features = [f for f in data.columns if f not in [target] + entity_columns]\n",
    "\n",
    "    train, valid = train_test_split(data.copy(), test_size=0.25, random_state=88)\n",
    "\n",
    "    # Entrenamos el modelo\n",
    "    model = LinearRegression()\n",
    "    model.fit(train[features], train[target])\n",
    "    \n",
    "    # Hacemos predicciones\n",
    "    preds = model.predict(valid[features])\n",
    "\n",
    "    # Agregamos la columna 'prediction' a los DataFrames de validación\n",
    "    valid = valid.copy()  # Hacer una copia para evitar el SettingWithCopyWarning\n",
    "    valid.loc[:, 'prediction'] = preds\n",
    "    \n",
    "    # Evaluamos el modelo\n",
    "    Mean_target_valid = round(valid[target].mean(), 4)\n",
    "    Mean_prediction = round(preds.mean(), 4)\n",
    "    RMSE = round(mean_squared_error(valid[target], preds)**0.5, 4)\n",
    "    \n",
    "    return model, preds, valid, Mean_target_valid, Mean_prediction, RMSE\n",
    "\n",
    "# Entrenamos y evaluamos para cada región\n",
    "model_0, pred_0, valid_0, Mean_target_valid_0, Mean_prediction_0, RMSE_0 = train_and_evaluate(data_0)\n",
    "model_1, pred_1, valid_1, Mean_target_valid_1, Mean_prediction_1, RMSE_1 = train_and_evaluate(data_1)\n",
    "model_2, pred_2, valid_2, Mean_target_valid_2, Mean_prediction_2, RMSE_2 = train_and_evaluate(data_2)\n",
    "\n",
    "# Mostramos resultados\n",
    "print(f'Región 0 - RMSE: {RMSE_0}, Mean target (valid): {Mean_target_valid_0}, Mean prediction: {Mean_prediction_0}')\n",
    "print(f'Región 1 - RMSE: {RMSE_1}, Mean target (valid): {Mean_target_valid_1}, Mean prediction: {Mean_prediction_1}')\n",
    "print(f'Región 2 - RMSE: {RMSE_2}, Mean target (valid): {Mean_target_valid_2}, Mean prediction: {Mean_prediction_2}')"
   ]
  },
  {
   "cell_type": "markdown",
   "metadata": {},
   "source": [
    "En base a los resultados obtenidos, podemos indicar que lo siguiente:\n",
    "\n",
    "Rendimiento del Modelo:\n",
    "La Región 1 tiene un RMSE significativamente más bajo que las otras dos regiones, lo que indica que el modelo de regresión lineal es mucho más preciso en esta región. Esta región presenta una variabilidad mínima en las predicciones en comparación con las observaciones reales.\n",
    "Las Regiones 0 y 2 tienen RMSE mucho más altos, lo que sugiere que las predicciones en estas regiones son menos precisas y tienen una variabilidad considerable.\n",
    "\n",
    "Media de las Predicciones vs Media del Objetivo:\n",
    "En todas las regiones, las medias de las predicciones están bastante cerca de las medias de los objetivos, lo cual es positivo. Sin embargo, el alto RMSE en las Regiones 0 y 2 indica que, aunque las medias sean cercanas, hay una alta dispersión en los valores predichos.\n",
    "\n",
    "A continuación vamos a realizar unos gráficos para analizar la distribución de las predicciones en comparación con los valores reales para cada región."
   ]
  },
  {
   "cell_type": "code",
   "execution_count": 14,
   "metadata": {},
   "outputs": [
    {
     "data": {
      "image/png": "[encoded data removed]",
      "text/plain": [
       "<Figure size 800x400 with 1 Axes>"
      ]
     },
     "metadata": {},
     "output_type": "display_data"
    },
    {
     "data": {
      "image/png": "[encoded data removed]",
      "text/plain": [
       "<Figure size 800x400 with 1 Axes>"
      ]
     },
     "metadata": {},
     "output_type": "display_data"
    },
    {
     "data": {
      "image/png": "[encoded data removed]",
      "text/plain": [
       "<Figure size 800x400 with 1 Axes>"
      ]
     },
     "metadata": {},
     "output_type": "display_data"
    }
   ],
   "source": [
    "def plot_histograms(valid, preds, region):\n",
    "    plt.figure(figsize=(8, 4))\n",
    "    plt.hist(valid['product'], bins=100, alpha=0.5, label='Actual', color='blue')\n",
    "    plt.hist(preds, bins=100, alpha=0.5, label='Predicted', color='orange')\n",
    "    plt.title(f'Distribution of Actual vs Predicted Values for Region {region}')\n",
    "    plt.xlabel('Volume of Reserves (thousands of barrels)')\n",
    "    plt.ylabel('Frequency')\n",
    "    plt.legend()\n",
    "    plt.grid(True)\n",
    "    plt.show()\n",
    "\n",
    "# Para la región 0\n",
    "plot_histograms(valid_0, pred_0, 0)\n",
    "\n",
    "# Para la región 1\n",
    "plot_histograms(valid_1, pred_1, 1)\n",
    "\n",
    "# Para la región 2\n",
    "plot_histograms(valid_2, pred_2, 2)"
   ]
  },
  {
   "cell_type": "markdown",
   "metadata": {},
   "source": [
    "Los gráficos generados son útiles para analizar la distribución de las predicciones en comparación con los valores reales para cada región. Podemos indicar los siguientes comentarios:\n",
    "\n",
    "Para las regiones 0 y 2, sus histogramas muestran que las predicciones del modelo (color naranja) siguen de cerca la distribución de los valores reales (color azul), aunque hay ciertas discrepancias en los extremos.\n",
    "La superposición entre las predicciones y los valores reales indica que el modelo tiene una buena capacidad para capturar la tendencia general del volumen de reservas en esta región.\n",
    "La forma de la distribución sugiere que el modelo es razonablemente preciso en capturar la tendencia general del volumen de reservas, aunque hay margen para mejorar en los extremos.\n",
    "\n",
    "Para la región 1, las predicciones y los valores reales están muy alineados y agrupados en ciertos valores discretos. Esto podría indicar una falta de variabilidad en los datos o la presencia de ciertas características que dominan la producción de reservas.\n",
    "La alta precisión del modelo en esta región se refleja en un RMSE muy bajo, lo que sugiere que el modelo predice muy bien los valores de producción en esta región.\n"
   ]
  },
  {
   "cell_type": "markdown",
   "metadata": {},
   "source": [
    "### Preparación Cálculo de Ganancias. "
   ]
  },
  {
   "cell_type": "markdown",
   "metadata": {},
   "source": [
    "Primero vamos a almacenar todos los valores necesarios para los cálculos en variables separadas, considerando que:\n",
    "\n",
    " - Un barril de materias primas genera 4.5 USD de ingresos. El ingreso de una unidad de producto es de 4500 dólares (el volumen de reservas está expresado en miles de barriles).\n",
    "\n",
    " - Dada la inversión de 100 millones por 200 pozos petrolíferos, de media un pozo petrolífero debe producir al menos un valor de 500,000 dólares en unidades para evitar pérdidas (esto es equivalente a 111.1 unidades). "
   ]
  },
  {
   "cell_type": "code",
   "execution_count": 15,
   "metadata": {},
   "outputs": [
    {
     "name": "stdout",
     "output_type": "stream",
     "text": [
      "volumen mínimo 111.11111111111111\n"
     ]
    }
   ],
   "source": [
    "# En base a lo indicado en el enunciado, podemos definir las siguiente variables:\n",
    "inversion_total = 100000000  # 100 millones de dólares\n",
    "ingreso_por_unidad = 4500  # en dólares por unidad\n",
    "pozos_por_region = 200\n",
    "volumen_minimo = (inversion_total / pozos_por_region) / ingreso_por_unidad\n",
    "print(\"volumen mínimo\",volumen_minimo)"
   ]
  },
  {
   "cell_type": "markdown",
   "metadata": {},
   "source": [
    "Comparar esta cantidad la cantidad de unidades mínima para evitar pérdidas con la cantidad media de reservas \n",
    "en cada región."
   ]
  },
  {
   "cell_type": "code",
   "execution_count": 16,
   "metadata": {},
   "outputs": [
    {
     "name": "stdout",
     "output_type": "stream",
     "text": [
      "cantidad_media_reservas_region_0: 92.3657\n",
      "cantidad_media_reservas_region_1: 68.8505\n",
      "cantidad_media_reservas_region_2: 94.9646\n",
      "----------------------------------------------------\n",
      "Comparación Cantidad Media de Reservas con Umbral Mínimo:\n",
      "Región 0: Insuficiente\n",
      "Región 1: Insuficiente\n",
      "Región 2: Insuficiente\n"
     ]
    }
   ],
   "source": [
    "# Definir el valor mínimo de unidades\n",
    "umbral_minimo_unidades = volumen_minimo\n",
    "\n",
    "# Calcular la cantidad media de reservas en cada región\n",
    "cantidad_media_reservas_region_0 = Mean_target_valid_0.mean()\n",
    "cantidad_media_reservas_region_1 = Mean_target_valid_1.mean()\n",
    "cantidad_media_reservas_region_2 = Mean_target_valid_2.mean()\n",
    "\n",
    "print(\"cantidad_media_reservas_region_0:\",cantidad_media_reservas_region_0)\n",
    "print(\"cantidad_media_reservas_region_1:\",cantidad_media_reservas_region_1)\n",
    "print(\"cantidad_media_reservas_region_2:\",cantidad_media_reservas_region_2)\n",
    "print(\"----------------------------------------------------\")\n",
    "\n",
    "# Presentar conclusiones\n",
    "print(\"Comparación Cantidad Media de Reservas con Umbral Mínimo:\")\n",
    "print(\"Región 0:\", \"Suficiente\" if cantidad_media_reservas_region_0 >= umbral_minimo_unidades else \"Insuficiente\")\n",
    "print(\"Región 1:\", \"Suficiente\" if cantidad_media_reservas_region_1 >= umbral_minimo_unidades else \"Insuficiente\")\n",
    "print(\"Región 2:\", \"Suficiente\" if cantidad_media_reservas_region_2 >= umbral_minimo_unidades else \"Insuficiente\")"
   ]
  },
  {
   "cell_type": "markdown",
   "metadata": {},
   "source": [
    "Vemos que en ninguna de las regiones el valor medio de las reservas alcanza el volumen mínimo para \n",
    "no tener pérdidas. \n",
    "\n",
    "Es por esto que es necesario trabajar con los 200 pozos con los valores de predicción más altos de cada una de las 3 regiones de manera de tratar de asegurarnos de no tener pérdidas en la extraccción de petróleo."
   ]
  },
  {
   "cell_type": "markdown",
   "metadata": {},
   "source": [
    "### Función Cálculo de Ganancias. "
   ]
  },
  {
   "cell_type": "markdown",
   "metadata": {},
   "source": [
    "Debemos definir una función para calcular la ganancia de los 200 pozos con los valores de predicción más altos de cada una de las 3 regiones, y proponer una región para el desarrollo de pozos petrolíferos en base a esos resultados.\n",
    "\n",
    "Para ello primero definimos los 200 pozos con valores más altos de predección para cada una de las regiones."
   ]
  },
  {
   "cell_type": "code",
   "execution_count": 17,
   "metadata": {},
   "outputs": [
    {
     "name": "stdout",
     "output_type": "stream",
     "text": [
      "          id        f0        f1         f2     product  prediction\n",
      "52356  R5IYz  0.879559  0.258449  15.202838  123.920559  177.534575\n",
      "27658  WcCwe  1.723956 -0.376442  13.139065  140.631646  176.072505\n",
      "78948  CzsKA  1.412823 -0.612153  12.784117  162.153488  175.919680\n",
      "75469  IBkmA  0.913255 -0.563635  12.865616  145.106893  173.913571\n",
      "65743  kU92A  0.896968 -0.498996  12.828118  176.807828  172.689685\n",
      "          id         f0         f1        f2     product  prediction\n",
      "55165  wcKNk -22.107811  -5.342910  5.006254  137.945408  139.895597\n",
      "33785  Kb3tb -22.470225 -13.425280  4.989188  137.945408  139.662139\n",
      "24274  dRAMT -19.015453 -13.129388  5.003874  137.945408  139.550920\n",
      "42432  55xmk -19.963551  -3.719157  5.003169  137.945408  139.466759\n",
      "92919  hN5ca -19.662614 -12.490781  4.994527  137.945408  139.379047\n",
      "          id        f0        f1         f2     product  prediction\n",
      "6647   AaIO6  1.046668 -1.970502  16.252444  152.294162  173.995419\n",
      "41820  ZPjVW -0.968576  0.885320  15.850991  139.562959  171.590606\n",
      "46649  CMrKc  0.155658 -0.094626  14.871466  131.627481  166.007074\n",
      "89165  yJO5k -0.005191 -1.141924  14.614990   97.775979  164.582479\n",
      "29787  RfXjW  2.205897  1.191527  14.544666  125.535602  164.061527\n"
     ]
    }
   ],
   "source": [
    "# Seleccionamos los 200 pozos con los valores de predicción más altos de cada región:\n",
    "top_pozos_region_0 = valid_0.sort_values(by='prediction', ascending=False).head(200)\n",
    "top_pozos_region_1 = valid_1.sort_values(by='prediction', ascending=False).head(200)\n",
    "top_pozos_region_2 = valid_2.sort_values(by='prediction', ascending=False).head(200)\n",
    "\n",
    "# Sólo para verificar, imprimimos los primeros registros de cada conjunto de pozos seleccionado:\n",
    "print(top_pozos_region_0.head())\n",
    "print(top_pozos_region_1.head())\n",
    "print(top_pozos_region_2.head())"
   ]
  },
  {
   "cell_type": "code",
   "execution_count": 18,
   "metadata": {},
   "outputs": [
    {
     "name": "stdout",
     "output_type": "stream",
     "text": [
      "Ganancia potencial en la Región 0: 33135684.39 dólares\n",
      "Ganancia potencial en la Región 1: 24150866.97 dólares\n",
      "Ganancia potencial en la Región 2: 25311974.98 dólares\n"
     ]
    }
   ],
   "source": [
    "def calcular_ganancias_por_region(top_pozos_region, ingreso_por_unidad=4500, costo_inversión_200_pozos=100000000):\n",
    "    \"\"\"\n",
    "    Calcula la ganancia potencial por región.\n",
    "\n",
    "    Args:\n",
    "        top_pozos_region (pandas.DataFrame): DataFrame con los 200 mejores pozos de una región.\n",
    "        ingreso_por_unidad (float): Ingreso por unidad de producto en dólares. Por defecto: 4500.\n",
    "        costo inversión de 200 pozos = 100.000.000\n",
    "\n",
    "    Returns:\n",
    "        float: Ganancia potencial por región.\n",
    "    \"\"\"\n",
    "    ganancia_region = (((top_pozos_region['product'] * ingreso_por_unidad).sum())- costo_inversión_200_pozos)\n",
    "    return ganancia_region\n",
    "\n",
    "# Calcular ganancias potenciales para cada región\n",
    "ganancia_region_0 = calcular_ganancias_por_region(top_pozos_region_0)\n",
    "ganancia_region_1 = calcular_ganancias_por_region(top_pozos_region_1)\n",
    "ganancia_region_2 = calcular_ganancias_por_region(top_pozos_region_2)\n",
    "\n",
    "# Imprimir las ganancias potenciales por región\n",
    "print(f\"Ganancia potencial en la Región 0: {ganancia_region_0:.2f} dólares\")\n",
    "print(f\"Ganancia potencial en la Región 1: {ganancia_region_1:.2f} dólares\")\n",
    "print(f\"Ganancia potencial en la Región 2: {ganancia_region_2:.2f} dólares\")"
   ]
  },
  {
   "cell_type": "markdown",
   "metadata": {},
   "source": [
    "Basándonos únicamente en las ganancias potenciales, la Región 0 parece ser la opción más atractiva para el desarrollo de pozos petrolíferos, debido a que proporciona una ganancia potencial mayor que las otras dos regiones.\n",
    "\n",
    "Sin embargo, se deben considerar otros factores antes de tomar una decisión definitiva. Por ejemplo, además de este análisis, también sería recomendable considerar factores ambientales y regulatorios para tomar la mejor decisión posible, además de realizar un análisis de riesgo."
   ]
  },
  {
   "cell_type": "markdown",
   "metadata": {},
   "source": [
    "### Calculo Riesgos y Ganancias para cada región."
   ]
  },
  {
   "cell_type": "markdown",
   "metadata": {},
   "source": [
    "Ahora debemos utilizar las predicciones y mediante la técnica del bootstrapping con 1000 muestras, \n",
    "calcular el beneficio promedio, el intervalo de confianza del 95% y el riesgo de pérdidas. "
   ]
  },
  {
   "cell_type": "code",
   "execution_count": 20,
   "metadata": {},
   "outputs": [
    {
     "name": "stdout",
     "output_type": "stream",
     "text": [
      "\n",
      "    Región: region_0\n",
      "    Beneficio promedio: 4011021.56\n",
      "    Intervalo de confianza del 95%: [-1319116.82, 9222690.64]\n",
      "    Nivel de riesgo: 6.2000%\n",
      "    \n"
     ]
    },
    {
     "data": {
      "image/png": "[encoded data removed]",
      "text/plain": [
       "<Figure size 640x480 with 1 Axes>"
      ]
     },
     "metadata": {},
     "output_type": "display_data"
    },
    {
     "name": "stdout",
     "output_type": "stream",
     "text": [
      "\n",
      "    Región: region_1\n",
      "    Beneficio promedio: 4540832.61\n",
      "    Intervalo de confianza del 95%: [638070.49, 8564848.33]\n",
      "    Nivel de riesgo: 1.4000%\n",
      "    \n"
     ]
    },
    {
     "data": {
      "image/png": "[encoded data removed]",
      "text/plain": [
       "<Figure size 640x480 with 1 Axes>"
      ]
     },
     "metadata": {},
     "output_type": "display_data"
    },
    {
     "name": "stdout",
     "output_type": "stream",
     "text": [
      "\n",
      "    Región: region_2\n",
      "    Beneficio promedio: 3774321.59\n",
      "    Intervalo de confianza del 95%: [-1410032.09, 8844590.54]\n",
      "    Nivel de riesgo: 6.7000%\n",
      "    \n"
     ]
    },
    {
     "data": {
      "image/png": "[encoded data removed]",
      "text/plain": [
       "<Figure size 640x480 with 1 Axes>"
      ]
     },
     "metadata": {},
     "output_type": "display_data"
    }
   ],
   "source": [
    "# Función para calcular las ganancias estimadas utilizando la función existente\n",
    "def compute_gains(sample):\n",
    "    sample_sorted = sample.sort_values(by='prediction', ascending=False).head(200)\n",
    "    estimated_revenues = calcular_ganancias_por_region(sample_sorted)\n",
    "    return estimated_revenues\n",
    "\n",
    "# Parámetros\n",
    "bootstrap_reps = 1000\n",
    "bootstrap_size = 500\n",
    "\n",
    "# Inicializar resultados\n",
    "results = {}\n",
    "\n",
    "# Cálculo para cada región\n",
    "for region_name, df in zip([\"region_0\", \"region_1\", \"region_2\"], [valid_0, valid_1, valid_2]):\n",
    "    region_gains = []\n",
    "    \n",
    "    for i in range(bootstrap_reps):\n",
    "        bootstrap_sample = df.sample(n=bootstrap_size, replace=True)\n",
    "        estimated_revenues = compute_gains(bootstrap_sample)\n",
    "        region_gains.append(estimated_revenues)\n",
    "    \n",
    "    results[region_name] = {\n",
    "        \"gains\": region_gains,\n",
    "        \"is_loss\": [g < 0 for g in region_gains]\n",
    "    }\n",
    "\n",
    "# Calculamos el nivel de riesgo para cada región\n",
    "for region in [\"region_0\", \"region_1\", \"region_2\"]:\n",
    "    gains = results[region][\"gains\"]\n",
    "    mean_gain = np.mean(gains)\n",
    "    lower_bound = np.percentile(gains, 2.5)\n",
    "    upper_bound = np.percentile(gains, 97.5)\n",
    "    risk_level = sum(results[region][\"is_loss\"]) / len(results[region][\"is_loss\"])\n",
    "    \n",
    "    print(f\"\"\"\n",
    "    Región: {region}\n",
    "    Beneficio promedio: {mean_gain:.2f}\n",
    "    Intervalo de confianza del 95%: [{lower_bound:.2f}, {upper_bound:.2f}]\n",
    "    Nivel de riesgo: {risk_level:.4%}\n",
    "    \"\"\")\n",
    "\n",
    "    # Generar histograma\n",
    "    plt.hist(gains, bins=50, alpha=0.75)\n",
    "    plt.title(f'Histograma de Ganancias - {region}')\n",
    "    plt.xlabel('Ganancia')\n",
    "    plt.ylabel('Frecuencia')\n",
    "    plt.show()\n"
   ]
  },
  {
   "cell_type": "markdown",
   "metadata": {},
   "source": [
    "En base a los resultados obtenidos, podemos indicar que:\n",
    "\n",
    "La Región 1 aparece bastante atractiva para el desarrollo de pozos petrolíferos debido a su mayor beneficio promedio, sin embargo tiene el mayor nivel de riesgo comparado con las otras dos regiones.\n",
    "\n",
    "Por otro lado la Región 2, aunque tiene el menor beneficio promedio, también presenta el menor nivel de riesgo.\n",
    "\n",
    "El nivel de riesgo puede ser muy relevante a la hora de definir en que región desarrollar la inversión. Considerando este aspecto, la Región 0 puede ser una buena alternativa si se busca un equilibrio entre ganancias esperadas y riesgo, debido a que tiene mayores ganancias que la región 2 y un riesgo mucho más bajo que la región 1. "
   ]
  },
  {
   "cell_type": "markdown",
   "metadata": {},
   "source": [
    "### Conclusión General. "
   ]
  },
  {
   "cell_type": "markdown",
   "metadata": {},
   "source": [
    "En este proyecto trabajamos con 3 conjuntos de datos de la compañía de extracción de petróleo OilyGiant. El objetivo era de determinar la mejor región donde abrir 200 pozos nuevos de petróleo. \n",
    "\n",
    "Para ello, después de descargar los datos, hemos ocupado un modelo de regresión lineal, con el cual hemos analizado las posibles ganancias en cada una de las regiones, ocupando para ello los 200 pozos con los valores de predicción más altos de cada una de las 3 regiones. \n",
    "\n",
    "Basándonos sólo en ese análisis de ganancias potenciales, la Región 0 parece ser la opción más atractiva para el desarrollo de pozos petrolíferos, debido a que proporciona una ganancia potencial mayor que las otras dos regiones.\n",
    "\n",
    "Posterior a eso hemos ocupado técnica del bootstrapping con 1000 muestras, calcular el beneficio promedio, el intervalo de confianza del 95% y el riesgo de pérdidas.\n",
    "\n",
    "En este último análisis, la Región 0 puede ser una buena alternativa si se busca un equilibrio entre ganancias esperadas y riesgo, debido a que tiene mayores gagancias que la región 2 y un riesgo mucho más bajo que la región 1.\n",
    "\n",
    "En base a los resultados obtenidos, y considerando el alto monto de inversión y lo importante que es el nivel de riesgo en las decisiones de imversión, proponemos elegir la región 0 para el desarrollo de pozos petrolíferos."
   ]
  },
  {
   "cell_type": "markdown",
   "metadata": {},
   "source": [
    "<div class=\"alert alert-block alert-success\">\n",
    "<b>Comentario de Reviewer v2</b> <a class=\"tocSkip\"></a>\n",
    "\n",
    "Me parece que las conclusiones no coinciden con los resultados de ahora pero sí con los que venían tu notebook. No estoy seguro que ocurrió, pero creo que algo se modificó y al menos cuando yo reinició el kernel y ejecuto todo, se ve que la región 1 es la más promisoria. Sería bueno definir la \n",
    "    \n",
    "Esto no es problema, mi única sugerencia es que uses algunas cifras al momento de comparar en las conclusiones, por ejemplo, si el riesgo es más bajo, mencionar cuántos puntos porcentuales más bajo es.    \n",
    "</div>"
   ]
  }
 ],
 "metadata": {
  "ExecuteTimeLog": [
   {
    "duration": 5186,
    "start_time": "2024-05-18T13:29:22.095Z"
   },
   {
    "duration": 1159,
    "start_time": "2024-05-18T13:29:27.284Z"
   },
   {
    "duration": 138,
    "start_time": "2024-05-18T13:29:47.402Z"
   },
   {
    "duration": 166,
    "start_time": "2024-05-18T13:31:44.595Z"
   },
   {
    "duration": 132,
    "start_time": "2024-05-18T13:31:49.035Z"
   },
   {
    "duration": 23,
    "start_time": "2024-05-18T13:31:51.424Z"
   },
   {
    "duration": 25,
    "start_time": "2024-05-18T13:34:57.309Z"
   },
   {
    "duration": 439,
    "start_time": "2024-05-18T13:35:09.308Z"
   },
   {
    "duration": 26,
    "start_time": "2024-05-18T13:35:13.694Z"
   },
   {
    "duration": 21,
    "start_time": "2024-05-18T13:35:21.031Z"
   },
   {
    "duration": 5257,
    "start_time": "2024-05-20T13:42:10.794Z"
   },
   {
    "duration": 486,
    "start_time": "2024-05-20T13:42:16.055Z"
   },
   {
    "duration": 26,
    "start_time": "2024-05-20T13:42:16.544Z"
   },
   {
    "duration": 20,
    "start_time": "2024-05-20T13:42:18.128Z"
   },
   {
    "duration": 21,
    "start_time": "2024-05-20T13:42:20.083Z"
   },
   {
    "duration": 176,
    "start_time": "2024-05-20T14:04:07.044Z"
   },
   {
    "duration": 23,
    "start_time": "2024-05-20T14:42:23.607Z"
   },
   {
    "duration": 497,
    "start_time": "2024-05-20T14:43:03.764Z"
   },
   {
    "duration": 119,
    "start_time": "2024-05-20T14:43:16.309Z"
   },
   {
    "duration": 8,
    "start_time": "2024-05-20T14:44:15.278Z"
   },
   {
    "duration": 7,
    "start_time": "2024-05-20T14:44:20.005Z"
   },
   {
    "duration": 5128,
    "start_time": "2024-05-23T14:35:13.974Z"
   },
   {
    "duration": 7,
    "start_time": "2024-05-23T14:36:34.885Z"
   },
   {
    "duration": 7,
    "start_time": "2024-05-23T14:36:41.029Z"
   },
   {
    "duration": 490,
    "start_time": "2024-05-23T14:36:44.882Z"
   },
   {
    "duration": 23,
    "start_time": "2024-05-23T14:36:48.325Z"
   },
   {
    "duration": 24,
    "start_time": "2024-05-23T14:36:53.457Z"
   },
   {
    "duration": 22,
    "start_time": "2024-05-23T14:36:57.908Z"
   },
   {
    "duration": 102,
    "start_time": "2024-05-23T14:37:05.615Z"
   },
   {
    "duration": 20,
    "start_time": "2024-05-23T14:38:15.195Z"
   },
   {
    "duration": 8,
    "start_time": "2024-05-23T14:38:16.472Z"
   },
   {
    "duration": 9,
    "start_time": "2024-05-23T14:38:33.472Z"
   },
   {
    "duration": 21,
    "start_time": "2024-05-23T14:39:02.619Z"
   },
   {
    "duration": 282,
    "start_time": "2024-05-23T14:39:48.136Z"
   },
   {
    "duration": 19,
    "start_time": "2024-05-23T14:48:44.577Z"
   },
   {
    "duration": 237,
    "start_time": "2024-05-23T14:49:42.394Z"
   },
   {
    "duration": 266,
    "start_time": "2024-05-23T14:50:06.547Z"
   },
   {
    "duration": 706,
    "start_time": "2024-05-23T14:53:59.666Z"
   },
   {
    "duration": 291,
    "start_time": "2024-05-23T14:54:45.973Z"
   },
   {
    "duration": 275,
    "start_time": "2024-05-23T14:54:59.692Z"
   },
   {
    "duration": 282,
    "start_time": "2024-05-23T15:11:27.544Z"
   },
   {
    "duration": 244,
    "start_time": "2024-05-23T15:13:36.079Z"
   },
   {
    "duration": 275,
    "start_time": "2024-05-23T15:13:58.637Z"
   },
   {
    "duration": 245,
    "start_time": "2024-05-23T15:14:06.582Z"
   },
   {
    "duration": 1826,
    "start_time": "2024-05-23T15:35:48.561Z"
   },
   {
    "duration": 2566,
    "start_time": "2024-05-23T15:36:48.219Z"
   },
   {
    "duration": 1208,
    "start_time": "2024-05-23T15:37:01.358Z"
   },
   {
    "duration": 1351,
    "start_time": "2024-05-23T15:37:24.054Z"
   },
   {
    "duration": 1078,
    "start_time": "2024-05-23T15:37:49.380Z"
   },
   {
    "duration": 1910,
    "start_time": "2024-05-23T15:38:04.559Z"
   },
   {
    "duration": 2616,
    "start_time": "2024-05-23T15:38:31.496Z"
   },
   {
    "duration": 10,
    "start_time": "2024-05-23T16:05:47.070Z"
   },
   {
    "duration": 6,
    "start_time": "2024-05-23T16:08:21.405Z"
   },
   {
    "duration": 8,
    "start_time": "2024-05-23T16:09:45.639Z"
   },
   {
    "duration": 7,
    "start_time": "2024-05-23T16:10:21.767Z"
   },
   {
    "duration": 7,
    "start_time": "2024-05-23T16:11:21.138Z"
   },
   {
    "duration": 8,
    "start_time": "2024-05-23T16:12:41.437Z"
   },
   {
    "duration": 17,
    "start_time": "2024-05-23T16:14:06.225Z"
   },
   {
    "duration": 31,
    "start_time": "2024-05-23T16:21:29.847Z"
   },
   {
    "duration": 8,
    "start_time": "2024-05-23T16:24:16.958Z"
   },
   {
    "duration": 7,
    "start_time": "2024-05-23T16:26:51.455Z"
   },
   {
    "duration": 7,
    "start_time": "2024-05-23T16:31:07.098Z"
   },
   {
    "duration": 31,
    "start_time": "2024-05-23T16:34:04.489Z"
   },
   {
    "duration": 39,
    "start_time": "2024-05-23T16:35:52.143Z"
   },
   {
    "duration": 699,
    "start_time": "2024-05-23T16:37:27.377Z"
   },
   {
    "duration": 5,
    "start_time": "2024-05-23T16:38:44.608Z"
   },
   {
    "duration": 19,
    "start_time": "2024-05-23T16:45:14.867Z"
   },
   {
    "duration": 18,
    "start_time": "2024-05-23T16:45:31.010Z"
   },
   {
    "duration": 185,
    "start_time": "2024-05-23T16:46:20.148Z"
   },
   {
    "duration": 2465,
    "start_time": "2024-05-23T16:46:38.360Z"
   },
   {
    "duration": 306,
    "start_time": "2024-05-23T16:48:27.307Z"
   },
   {
    "duration": 235,
    "start_time": "2024-05-23T16:50:21.100Z"
   },
   {
    "duration": 278,
    "start_time": "2024-05-23T16:51:05.239Z"
   },
   {
    "duration": 2528,
    "start_time": "2024-05-23T16:51:46.045Z"
   },
   {
    "duration": 7,
    "start_time": "2024-05-23T16:51:59.227Z"
   },
   {
    "duration": 5,
    "start_time": "2024-05-23T16:52:09.425Z"
   },
   {
    "duration": 5,
    "start_time": "2024-05-23T16:52:17.055Z"
   },
   {
    "duration": 74,
    "start_time": "2024-05-23T16:52:25.218Z"
   },
   {
    "duration": 33,
    "start_time": "2024-05-23T16:55:34.499Z"
   },
   {
    "duration": 29,
    "start_time": "2024-05-23T16:57:27.652Z"
   },
   {
    "duration": 23,
    "start_time": "2024-05-23T17:00:06.181Z"
   },
   {
    "duration": 6,
    "start_time": "2024-05-23T17:00:32.816Z"
   },
   {
    "duration": 71,
    "start_time": "2024-05-23T17:01:46.994Z"
   },
   {
    "duration": 322,
    "start_time": "2024-05-23T17:05:34.008Z"
   },
   {
    "duration": 69,
    "start_time": "2024-05-23T17:05:45.074Z"
   },
   {
    "duration": 5,
    "start_time": "2024-05-23T17:06:03.197Z"
   },
   {
    "duration": 5,
    "start_time": "2024-05-23T17:06:25.015Z"
   },
   {
    "duration": 31,
    "start_time": "2024-05-23T17:08:01.083Z"
   },
   {
    "duration": 7,
    "start_time": "2024-05-23T17:08:11.220Z"
   },
   {
    "duration": 5,
    "start_time": "2024-05-23T17:08:22.953Z"
   },
   {
    "duration": 95,
    "start_time": "2024-05-23T17:09:01.421Z"
   },
   {
    "duration": 79,
    "start_time": "2024-05-23T17:09:04.850Z"
   },
   {
    "duration": 85,
    "start_time": "2024-05-23T17:09:38.907Z"
   },
   {
    "duration": 84,
    "start_time": "2024-05-23T17:09:51.519Z"
   },
   {
    "duration": 84,
    "start_time": "2024-05-23T17:18:09.874Z"
   },
   {
    "duration": 9,
    "start_time": "2024-05-23T17:18:53.058Z"
   },
   {
    "duration": 24,
    "start_time": "2024-05-23T17:20:40.974Z"
   },
   {
    "duration": 5340,
    "start_time": "2024-05-23T20:21:00.240Z"
   },
   {
    "duration": 491,
    "start_time": "2024-05-23T20:21:05.584Z"
   },
   {
    "duration": 25,
    "start_time": "2024-05-23T20:21:06.077Z"
   },
   {
    "duration": 29,
    "start_time": "2024-05-23T20:21:08.488Z"
   },
   {
    "duration": 27,
    "start_time": "2024-05-23T20:21:10.290Z"
   },
   {
    "duration": 195,
    "start_time": "2024-05-23T20:21:11.582Z"
   },
   {
    "duration": 106,
    "start_time": "2024-05-23T20:21:13.012Z"
   },
   {
    "duration": 21,
    "start_time": "2024-05-23T20:21:14.521Z"
   },
   {
    "duration": 23,
    "start_time": "2024-05-23T20:21:21.044Z"
   },
   {
    "duration": 7,
    "start_time": "2024-05-23T20:21:23.632Z"
   },
   {
    "duration": 22,
    "start_time": "2024-05-23T20:21:29.309Z"
   },
   {
    "duration": 324,
    "start_time": "2024-05-23T20:21:41.696Z"
   },
   {
    "duration": 321,
    "start_time": "2024-05-23T20:21:50.508Z"
   },
   {
    "duration": 8,
    "start_time": "2024-05-23T20:23:08.546Z"
   },
   {
    "duration": 13,
    "start_time": "2024-05-23T20:23:35.886Z"
   },
   {
    "duration": 2499,
    "start_time": "2024-05-23T20:24:36.591Z"
   },
   {
    "duration": 7,
    "start_time": "2024-05-23T20:25:54.565Z"
   },
   {
    "duration": 105,
    "start_time": "2024-05-23T20:26:45.390Z"
   },
   {
    "duration": 98,
    "start_time": "2024-05-23T20:30:56.814Z"
   },
   {
    "duration": 20,
    "start_time": "2024-05-23T20:38:40.177Z"
   },
   {
    "duration": 14,
    "start_time": "2024-05-23T20:40:08.626Z"
   },
   {
    "duration": 262,
    "start_time": "2024-05-23T20:40:34.081Z"
   },
   {
    "duration": 7,
    "start_time": "2024-05-23T20:40:54.646Z"
   },
   {
    "duration": 14,
    "start_time": "2024-05-23T20:41:08.287Z"
   },
   {
    "duration": 286,
    "start_time": "2024-05-23T20:46:47.331Z"
   },
   {
    "duration": 15,
    "start_time": "2024-05-23T20:47:24.006Z"
   },
   {
    "duration": 14,
    "start_time": "2024-05-23T20:50:50.975Z"
   },
   {
    "duration": 14,
    "start_time": "2024-05-23T20:51:08.296Z"
   },
   {
    "duration": 365,
    "start_time": "2024-05-23T20:51:10.615Z"
   },
   {
    "duration": 375,
    "start_time": "2024-05-23T20:51:15.284Z"
   },
   {
    "duration": 22,
    "start_time": "2024-05-23T20:51:18.611Z"
   },
   {
    "duration": 21,
    "start_time": "2024-05-23T20:51:20.864Z"
   },
   {
    "duration": 21,
    "start_time": "2024-05-23T20:51:22.581Z"
   },
   {
    "duration": 169,
    "start_time": "2024-05-23T20:51:24.601Z"
   },
   {
    "duration": 97,
    "start_time": "2024-05-23T20:51:28.750Z"
   },
   {
    "duration": 21,
    "start_time": "2024-05-23T20:51:33.596Z"
   },
   {
    "duration": 8,
    "start_time": "2024-05-23T20:51:35.935Z"
   },
   {
    "duration": 26,
    "start_time": "2024-05-23T20:51:44.950Z"
   },
   {
    "duration": 20,
    "start_time": "2024-05-23T20:51:50.062Z"
   },
   {
    "duration": 265,
    "start_time": "2024-05-23T20:51:57.353Z"
   },
   {
    "duration": 13,
    "start_time": "2024-05-23T20:52:01.443Z"
   },
   {
    "duration": 15,
    "start_time": "2024-05-23T20:52:10.061Z"
   },
   {
    "duration": 5,
    "start_time": "2024-05-23T20:55:42.031Z"
   },
   {
    "duration": 58093,
    "start_time": "2024-05-23T20:55:50.967Z"
   },
   {
    "duration": 58131,
    "start_time": "2024-05-23T20:56:54.728Z"
   },
   {
    "duration": 0,
    "start_time": "2024-05-23T20:57:52.862Z"
   },
   {
    "duration": 59934,
    "start_time": "2024-05-23T21:01:17.178Z"
   },
   {
    "duration": 58027,
    "start_time": "2024-05-23T21:02:36.798Z"
   },
   {
    "duration": 5,
    "start_time": "2024-05-23T21:04:27.765Z"
   },
   {
    "duration": 4016,
    "start_time": "2024-05-23T21:07:02.037Z"
   },
   {
    "duration": 2451,
    "start_time": "2024-05-23T21:08:33.512Z"
   },
   {
    "duration": 2297,
    "start_time": "2024-05-23T21:09:04.478Z"
   },
   {
    "duration": 2389,
    "start_time": "2024-05-23T21:12:05.297Z"
   },
   {
    "duration": 3810,
    "start_time": "2024-05-23T21:13:43.811Z"
   },
   {
    "duration": 2496,
    "start_time": "2024-05-23T21:16:02.188Z"
   },
   {
    "duration": 13,
    "start_time": "2024-05-23T22:00:21.653Z"
   },
   {
    "duration": 13,
    "start_time": "2024-05-23T22:01:49.868Z"
   },
   {
    "duration": 14,
    "start_time": "2024-05-23T22:02:27.518Z"
   },
   {
    "duration": 15,
    "start_time": "2024-05-23T22:02:34.032Z"
   },
   {
    "duration": 4,
    "start_time": "2024-05-23T22:14:33.738Z"
   },
   {
    "duration": 5,
    "start_time": "2024-05-23T22:14:47.293Z"
   },
   {
    "duration": 7,
    "start_time": "2024-05-23T22:15:33.150Z"
   },
   {
    "duration": 14,
    "start_time": "2024-05-23T22:16:32.870Z"
   },
   {
    "duration": 12,
    "start_time": "2024-05-23T22:17:45.086Z"
   },
   {
    "duration": 6,
    "start_time": "2024-05-23T22:29:26.173Z"
   },
   {
    "duration": 7,
    "start_time": "2024-05-23T22:31:02.618Z"
   },
   {
    "duration": 12,
    "start_time": "2024-05-23T22:31:05.544Z"
   },
   {
    "duration": 50,
    "start_time": "2024-05-23T22:34:43.595Z"
   },
   {
    "duration": 38,
    "start_time": "2024-05-23T22:35:17.822Z"
   },
   {
    "duration": 16,
    "start_time": "2024-05-23T22:35:34.280Z"
   },
   {
    "duration": 9,
    "start_time": "2024-05-23T22:35:37.743Z"
   },
   {
    "duration": 47,
    "start_time": "2024-05-23T22:36:17.032Z"
   },
   {
    "duration": 28,
    "start_time": "2024-05-23T22:44:20.614Z"
   },
   {
    "duration": 22,
    "start_time": "2024-05-23T22:44:27.304Z"
   },
   {
    "duration": 14,
    "start_time": "2024-05-23T22:45:01.177Z"
   },
   {
    "duration": 87,
    "start_time": "2024-05-23T22:45:21.436Z"
   },
   {
    "duration": 93,
    "start_time": "2024-05-23T22:46:56.856Z"
   },
   {
    "duration": 50,
    "start_time": "2024-05-23T22:51:26.295Z"
   },
   {
    "duration": 12,
    "start_time": "2024-05-23T22:58:49.550Z"
   },
   {
    "duration": 7,
    "start_time": "2024-05-23T23:02:42.350Z"
   },
   {
    "duration": 10,
    "start_time": "2024-05-23T23:24:20.038Z"
   },
   {
    "duration": 5189,
    "start_time": "2024-05-24T14:43:47.901Z"
   },
   {
    "duration": 510,
    "start_time": "2024-05-24T14:43:53.094Z"
   },
   {
    "duration": 32,
    "start_time": "2024-05-24T14:43:53.607Z"
   },
   {
    "duration": 22,
    "start_time": "2024-05-24T14:43:55.994Z"
   },
   {
    "duration": 29,
    "start_time": "2024-05-24T14:43:57.150Z"
   },
   {
    "duration": 172,
    "start_time": "2024-05-24T14:43:58.762Z"
   },
   {
    "duration": 97,
    "start_time": "2024-05-24T14:44:00.137Z"
   },
   {
    "duration": 20,
    "start_time": "2024-05-24T14:44:01.809Z"
   },
   {
    "duration": 8,
    "start_time": "2024-05-24T14:44:03.945Z"
   },
   {
    "duration": 21,
    "start_time": "2024-05-24T14:44:14.150Z"
   },
   {
    "duration": 25,
    "start_time": "2024-05-24T14:44:21.092Z"
   },
   {
    "duration": 276,
    "start_time": "2024-05-24T14:44:27.965Z"
   },
   {
    "duration": 17,
    "start_time": "2024-05-24T14:44:33.453Z"
   },
   {
    "duration": 13,
    "start_time": "2024-05-24T14:44:37.969Z"
   },
   {
    "duration": 14,
    "start_time": "2024-05-24T14:44:41.499Z"
   },
   {
    "duration": 5,
    "start_time": "2024-05-24T14:44:46.343Z"
   },
   {
    "duration": 5,
    "start_time": "2024-05-24T14:44:51.649Z"
   },
   {
    "duration": 2370,
    "start_time": "2024-05-24T14:45:00.066Z"
   },
   {
    "duration": 2362,
    "start_time": "2024-05-24T14:45:15.864Z"
   },
   {
    "duration": 7,
    "start_time": "2024-05-24T14:45:24.681Z"
   },
   {
    "duration": 43,
    "start_time": "2024-05-24T14:45:31.497Z"
   },
   {
    "duration": 36,
    "start_time": "2024-05-24T14:45:39.003Z"
   },
   {
    "duration": 15,
    "start_time": "2024-05-24T14:45:48.190Z"
   },
   {
    "duration": 7,
    "start_time": "2024-05-24T14:46:00.646Z"
   },
   {
    "duration": 88,
    "start_time": "2024-05-24T14:46:20.412Z"
   },
   {
    "duration": 5210,
    "start_time": "2024-05-24T21:25:15.109Z"
   },
   {
    "duration": 472,
    "start_time": "2024-05-24T21:25:20.324Z"
   },
   {
    "duration": 23,
    "start_time": "2024-05-24T21:25:20.799Z"
   },
   {
    "duration": 22,
    "start_time": "2024-05-24T21:25:20.830Z"
   },
   {
    "duration": 21,
    "start_time": "2024-05-24T21:25:22.685Z"
   },
   {
    "duration": 182,
    "start_time": "2024-05-24T21:25:24.367Z"
   },
   {
    "duration": 98,
    "start_time": "2024-05-24T21:25:25.660Z"
   },
   {
    "duration": 21,
    "start_time": "2024-05-24T21:25:27.556Z"
   },
   {
    "duration": 7,
    "start_time": "2024-05-24T21:25:29.548Z"
   },
   {
    "duration": 21,
    "start_time": "2024-05-24T21:25:34.649Z"
   },
   {
    "duration": 21,
    "start_time": "2024-05-24T21:25:39.996Z"
   },
   {
    "duration": 268,
    "start_time": "2024-05-24T21:25:45.075Z"
   },
   {
    "duration": 16,
    "start_time": "2024-05-24T21:25:49.088Z"
   },
   {
    "duration": 14,
    "start_time": "2024-05-24T21:25:50.024Z"
   },
   {
    "duration": 13,
    "start_time": "2024-05-24T21:25:51.500Z"
   },
   {
    "duration": 6,
    "start_time": "2024-05-24T21:25:53.809Z"
   },
   {
    "duration": 5,
    "start_time": "2024-05-24T21:25:54.900Z"
   },
   {
    "duration": 2374,
    "start_time": "2024-05-24T21:25:57.438Z"
   },
   {
    "duration": 2441,
    "start_time": "2024-05-24T21:26:05.433Z"
   },
   {
    "duration": 7,
    "start_time": "2024-05-24T21:26:13.563Z"
   },
   {
    "duration": 8,
    "start_time": "2024-05-24T21:26:15.916Z"
   },
   {
    "duration": 35,
    "start_time": "2024-05-24T21:26:20.262Z"
   },
   {
    "duration": 13,
    "start_time": "2024-05-24T21:26:23.845Z"
   },
   {
    "duration": 7,
    "start_time": "2024-05-24T21:26:29.644Z"
   },
   {
    "duration": 11,
    "start_time": "2024-05-24T21:37:33.039Z"
   },
   {
    "duration": 9,
    "start_time": "2024-05-24T21:37:50.409Z"
   },
   {
    "duration": 11,
    "start_time": "2024-05-24T22:38:05.600Z"
   },
   {
    "duration": 278,
    "start_time": "2024-05-24T22:38:32.286Z"
   },
   {
    "duration": 286,
    "start_time": "2024-05-24T22:39:39.028Z"
   },
   {
    "duration": 267,
    "start_time": "2024-05-24T22:39:49.307Z"
   },
   {
    "duration": 258,
    "start_time": "2024-05-24T22:41:29.519Z"
   },
   {
    "duration": 277,
    "start_time": "2024-05-24T22:41:49.214Z"
   },
   {
    "duration": 484,
    "start_time": "2024-05-24T22:42:30.838Z"
   },
   {
    "duration": 34,
    "start_time": "2024-05-24T22:42:53.726Z"
   },
   {
    "duration": 42,
    "start_time": "2024-05-24T22:43:16.406Z"
   },
   {
    "duration": 292,
    "start_time": "2024-05-24T22:46:12.250Z"
   },
   {
    "duration": 277,
    "start_time": "2024-05-24T22:51:19.822Z"
   },
   {
    "duration": 273,
    "start_time": "2024-05-24T22:58:54.098Z"
   },
   {
    "duration": 46,
    "start_time": "2024-05-24T23:05:45.610Z"
   },
   {
    "duration": 43,
    "start_time": "2024-05-24T23:06:16.533Z"
   },
   {
    "duration": 3346,
    "start_time": "2024-05-24T23:08:36.148Z"
   },
   {
    "duration": 5553,
    "start_time": "2024-05-25T20:48:43.978Z"
   },
   {
    "duration": 506,
    "start_time": "2024-05-25T20:48:49.535Z"
   },
   {
    "duration": 26,
    "start_time": "2024-05-25T20:48:50.045Z"
   },
   {
    "duration": 25,
    "start_time": "2024-05-25T20:48:50.075Z"
   },
   {
    "duration": 46,
    "start_time": "2024-05-25T20:48:50.103Z"
   },
   {
    "duration": 190,
    "start_time": "2024-05-25T20:49:00.631Z"
   },
   {
    "duration": 96,
    "start_time": "2024-05-25T20:49:04.697Z"
   },
   {
    "duration": 19,
    "start_time": "2024-05-25T20:49:07.645Z"
   },
   {
    "duration": 11,
    "start_time": "2024-05-25T20:49:10.266Z"
   },
   {
    "duration": 31,
    "start_time": "2024-05-25T20:49:11.312Z"
   },
   {
    "duration": 29,
    "start_time": "2024-05-25T20:49:12.930Z"
   },
   {
    "duration": 253,
    "start_time": "2024-05-25T20:49:14.579Z"
   },
   {
    "duration": 20,
    "start_time": "2024-05-25T20:49:17.354Z"
   },
   {
    "duration": 14,
    "start_time": "2024-05-25T20:49:18.164Z"
   },
   {
    "duration": 14,
    "start_time": "2024-05-25T20:49:18.927Z"
   },
   {
    "duration": 6,
    "start_time": "2024-05-25T20:49:20.039Z"
   },
   {
    "duration": 7,
    "start_time": "2024-05-25T20:49:21.295Z"
   },
   {
    "duration": 2720,
    "start_time": "2024-05-25T20:49:22.748Z"
   },
   {
    "duration": 2791,
    "start_time": "2024-05-25T20:49:30.466Z"
   },
   {
    "duration": 11,
    "start_time": "2024-05-25T20:49:36.749Z"
   },
   {
    "duration": 8,
    "start_time": "2024-05-25T20:49:42.141Z"
   },
   {
    "duration": 47,
    "start_time": "2024-05-25T20:49:46.851Z"
   },
   {
    "duration": 12,
    "start_time": "2024-05-25T20:49:56.327Z"
   },
   {
    "duration": 10,
    "start_time": "2024-05-25T20:51:01.822Z"
   },
   {
    "duration": 7,
    "start_time": "2024-05-25T20:52:49.803Z"
   },
   {
    "duration": 7,
    "start_time": "2024-05-25T20:52:58.423Z"
   },
   {
    "duration": 3410,
    "start_time": "2024-05-25T20:53:20.053Z"
   },
   {
    "duration": 257,
    "start_time": "2024-05-25T20:54:27.421Z"
   },
   {
    "duration": 4,
    "start_time": "2024-05-25T20:54:39.075Z"
   },
   {
    "duration": 6,
    "start_time": "2024-05-25T20:54:40.114Z"
   },
   {
    "duration": 6,
    "start_time": "2024-05-25T20:54:41.555Z"
   },
   {
    "duration": 6,
    "start_time": "2024-05-25T20:54:44.644Z"
   },
   {
    "duration": 15,
    "start_time": "2024-05-25T20:54:53.002Z"
   },
   {
    "duration": 6,
    "start_time": "2024-05-25T20:55:21.252Z"
   },
   {
    "duration": 101,
    "start_time": "2024-05-25T22:21:38.434Z"
   },
   {
    "duration": 97,
    "start_time": "2024-05-25T22:23:13.197Z"
   },
   {
    "duration": 7,
    "start_time": "2024-05-25T23:01:02.929Z"
   },
   {
    "duration": 6,
    "start_time": "2024-05-25T23:04:41.975Z"
   },
   {
    "duration": 5684,
    "start_time": "2024-05-26T22:03:57.980Z"
   },
   {
    "duration": 575,
    "start_time": "2024-05-26T22:04:03.667Z"
   },
   {
    "duration": 29,
    "start_time": "2024-05-26T22:04:06.345Z"
   },
   {
    "duration": 26,
    "start_time": "2024-05-26T22:04:08.547Z"
   },
   {
    "duration": 28,
    "start_time": "2024-05-26T22:04:09.623Z"
   },
   {
    "duration": 124,
    "start_time": "2024-05-26T22:04:11.805Z"
   },
   {
    "duration": 198,
    "start_time": "2024-05-26T22:04:14.708Z"
   },
   {
    "duration": 22,
    "start_time": "2024-05-26T22:04:21.982Z"
   },
   {
    "duration": 10,
    "start_time": "2024-05-26T22:04:23.143Z"
   },
   {
    "duration": 8,
    "start_time": "2024-05-26T22:04:26.980Z"
   },
   {
    "duration": 6,
    "start_time": "2024-05-26T22:04:31.859Z"
   },
   {
    "duration": 63,
    "start_time": "2024-05-26T22:04:56.118Z"
   },
   {
    "duration": 27,
    "start_time": "2024-05-26T22:05:01.088Z"
   },
   {
    "duration": 186,
    "start_time": "2024-05-26T22:05:06.882Z"
   },
   {
    "duration": 2806,
    "start_time": "2024-05-26T22:05:12.575Z"
   },
   {
    "duration": 2608,
    "start_time": "2024-05-26T22:05:21.858Z"
   },
   {
    "duration": 11,
    "start_time": "2024-05-26T22:05:38.372Z"
   },
   {
    "duration": 9,
    "start_time": "2024-05-26T22:05:41.529Z"
   },
   {
    "duration": 45,
    "start_time": "2024-05-26T22:05:45.164Z"
   },
   {
    "duration": 16,
    "start_time": "2024-05-26T22:05:47.259Z"
   },
   {
    "duration": 7,
    "start_time": "2024-05-26T22:05:52.270Z"
   },
   {
    "duration": 9,
    "start_time": "2024-05-26T22:06:50.199Z"
   },
   {
    "duration": 140,
    "start_time": "2024-05-26T22:07:07.344Z"
   },
   {
    "duration": 9,
    "start_time": "2024-05-26T22:07:25.047Z"
   },
   {
    "duration": 3670,
    "start_time": "2024-05-26T22:07:40.028Z"
   },
   {
    "duration": 265,
    "start_time": "2024-05-26T22:08:34.068Z"
   },
   {
    "duration": 262,
    "start_time": "2024-05-26T22:08:43.616Z"
   },
   {
    "duration": 6,
    "start_time": "2024-05-26T22:29:55.063Z"
   },
   {
    "duration": 4,
    "start_time": "2024-05-26T22:45:55.240Z"
   },
   {
    "duration": 5,
    "start_time": "2024-05-26T22:46:15.025Z"
   },
   {
    "duration": 5,
    "start_time": "2024-05-26T22:46:44.519Z"
   },
   {
    "duration": 5168,
    "start_time": "2024-05-27T15:29:24.697Z"
   },
   {
    "duration": 475,
    "start_time": "2024-05-27T15:29:29.868Z"
   },
   {
    "duration": 23,
    "start_time": "2024-05-27T15:29:31.302Z"
   },
   {
    "duration": 22,
    "start_time": "2024-05-27T15:29:32.936Z"
   },
   {
    "duration": 21,
    "start_time": "2024-05-27T15:29:34.211Z"
   },
   {
    "duration": 100,
    "start_time": "2024-05-27T15:29:40.282Z"
   },
   {
    "duration": 173,
    "start_time": "2024-05-27T15:29:45.526Z"
   },
   {
    "duration": 20,
    "start_time": "2024-05-27T15:29:51.563Z"
   },
   {
    "duration": 6,
    "start_time": "2024-05-27T15:29:53.395Z"
   },
   {
    "duration": 8,
    "start_time": "2024-05-27T15:29:57.444Z"
   },
   {
    "duration": 6,
    "start_time": "2024-05-27T15:30:02.370Z"
   },
   {
    "duration": 21,
    "start_time": "2024-05-27T15:30:36.707Z"
   },
   {
    "duration": 20,
    "start_time": "2024-05-27T15:32:28.340Z"
   },
   {
    "duration": 264,
    "start_time": "2024-05-27T15:32:37.352Z"
   },
   {
    "duration": 2338,
    "start_time": "2024-05-27T15:33:41.847Z"
   },
   {
    "duration": 2374,
    "start_time": "2024-05-27T15:33:55.061Z"
   },
   {
    "duration": 7,
    "start_time": "2024-05-27T15:42:50.762Z"
   },
   {
    "duration": 10,
    "start_time": "2024-05-27T15:43:39.335Z"
   },
   {
    "duration": 7,
    "start_time": "2024-05-27T15:43:51.311Z"
   },
   {
    "duration": 7,
    "start_time": "2024-05-27T15:44:13.327Z"
   },
   {
    "duration": 7,
    "start_time": "2024-05-27T15:44:22.590Z"
   },
   {
    "duration": 7,
    "start_time": "2024-05-27T15:44:47.976Z"
   },
   {
    "duration": 5,
    "start_time": "2024-05-27T15:47:11.161Z"
   },
   {
    "duration": 10,
    "start_time": "2024-05-27T15:47:48.172Z"
   },
   {
    "duration": 5,
    "start_time": "2024-05-27T15:48:22.063Z"
   },
   {
    "duration": 36,
    "start_time": "2024-05-27T16:21:52.057Z"
   },
   {
    "duration": 37,
    "start_time": "2024-05-27T16:27:47.475Z"
   },
   {
    "duration": 19,
    "start_time": "2024-05-27T16:27:50.935Z"
   },
   {
    "duration": 2973,
    "start_time": "2024-05-27T17:02:19.167Z"
   },
   {
    "duration": 3120,
    "start_time": "2024-05-27T17:05:05.033Z"
   },
   {
    "duration": 3028,
    "start_time": "2024-05-27T17:09:15.492Z"
   },
   {
    "duration": 3028,
    "start_time": "2024-05-27T17:11:15.466Z"
   },
   {
    "duration": 3025,
    "start_time": "2024-05-27T17:11:26.216Z"
   },
   {
    "duration": 3036,
    "start_time": "2024-05-27T17:17:04.200Z"
   },
   {
    "duration": 3030,
    "start_time": "2024-05-27T17:17:46.663Z"
   },
   {
    "duration": 3135,
    "start_time": "2024-05-27T17:18:00.613Z"
   },
   {
    "duration": 3033,
    "start_time": "2024-05-27T17:18:16.983Z"
   },
   {
    "duration": 19,
    "start_time": "2024-05-27T17:19:56.970Z"
   },
   {
    "duration": 416,
    "start_time": "2024-05-27T17:20:00.507Z"
   },
   {
    "duration": 23,
    "start_time": "2024-05-27T17:20:05.023Z"
   },
   {
    "duration": 22,
    "start_time": "2024-05-27T17:20:06.620Z"
   },
   {
    "duration": 22,
    "start_time": "2024-05-27T17:20:07.621Z"
   },
   {
    "duration": 98,
    "start_time": "2024-05-27T17:20:09.916Z"
   },
   {
    "duration": 179,
    "start_time": "2024-05-27T17:20:15.405Z"
   },
   {
    "duration": 22,
    "start_time": "2024-05-27T17:20:20.192Z"
   },
   {
    "duration": 5,
    "start_time": "2024-05-27T17:20:22.063Z"
   },
   {
    "duration": 8,
    "start_time": "2024-05-27T17:20:27.000Z"
   },
   {
    "duration": 7,
    "start_time": "2024-05-27T17:20:30.758Z"
   },
   {
    "duration": 22,
    "start_time": "2024-05-27T17:20:34.852Z"
   },
   {
    "duration": 256,
    "start_time": "2024-05-27T17:20:38.556Z"
   },
   {
    "duration": 2412,
    "start_time": "2024-05-27T17:20:42.825Z"
   },
   {
    "duration": 6,
    "start_time": "2024-05-27T17:20:49.969Z"
   },
   {
    "duration": 7,
    "start_time": "2024-05-27T17:20:52.251Z"
   },
   {
    "duration": 38,
    "start_time": "2024-05-27T17:20:56.483Z"
   },
   {
    "duration": 10,
    "start_time": "2024-05-27T17:21:04.856Z"
   },
   {
    "duration": 8,
    "start_time": "2024-05-27T17:21:09.395Z"
   },
   {
    "duration": 34,
    "start_time": "2024-05-27T17:21:14.208Z"
   },
   {
    "duration": 16,
    "start_time": "2024-05-27T17:21:18.104Z"
   },
   {
    "duration": 3036,
    "start_time": "2024-05-27T17:21:25.008Z"
   },
   {
    "duration": 7,
    "start_time": "2024-05-28T00:26:08.241Z"
   },
   {
    "duration": 427,
    "start_time": "2024-05-28T00:26:13.852Z"
   },
   {
    "duration": 27,
    "start_time": "2024-05-28T00:26:23.050Z"
   },
   {
    "duration": 41,
    "start_time": "2024-05-28T00:26:27.511Z"
   },
   {
    "duration": 25,
    "start_time": "2024-05-28T00:26:31.390Z"
   },
   {
    "duration": 109,
    "start_time": "2024-05-28T00:26:35.681Z"
   },
   {
    "duration": 223,
    "start_time": "2024-05-28T00:26:42.396Z"
   },
   {
    "duration": 34,
    "start_time": "2024-05-28T00:26:47.047Z"
   },
   {
    "duration": 5,
    "start_time": "2024-05-28T00:26:49.935Z"
   },
   {
    "duration": 8,
    "start_time": "2024-05-28T00:26:53.436Z"
   },
   {
    "duration": 9,
    "start_time": "2024-05-28T00:26:57.313Z"
   },
   {
    "duration": 24,
    "start_time": "2024-05-28T00:27:02.121Z"
   },
   {
    "duration": 215,
    "start_time": "2024-05-28T00:27:09.316Z"
   },
   {
    "duration": 2934,
    "start_time": "2024-05-28T00:27:54.283Z"
   },
   {
    "duration": 9,
    "start_time": "2024-05-28T00:28:10.726Z"
   },
   {
    "duration": 7,
    "start_time": "2024-05-28T00:28:20.796Z"
   },
   {
    "duration": 39,
    "start_time": "2024-05-28T00:28:40.061Z"
   },
   {
    "duration": 9,
    "start_time": "2024-05-28T00:28:45.241Z"
   },
   {
    "duration": 8,
    "start_time": "2024-05-28T00:28:51.611Z"
   },
   {
    "duration": 40,
    "start_time": "2024-05-28T00:28:56.391Z"
   },
   {
    "duration": 17,
    "start_time": "2024-05-28T00:29:02.716Z"
   },
   {
    "duration": 3801,
    "start_time": "2024-05-28T00:29:23.101Z"
   },
   {
    "duration": 3447,
    "start_time": "2024-05-28T00:29:38.051Z"
   },
   {
    "duration": 13,
    "start_time": "2024-05-28T00:31:49.902Z"
   },
   {
    "duration": 416,
    "start_time": "2024-05-28T00:31:52.705Z"
   },
   {
    "duration": 35,
    "start_time": "2024-05-28T00:31:56.826Z"
   },
   {
    "duration": 28,
    "start_time": "2024-05-28T00:31:58.459Z"
   },
   {
    "duration": 58,
    "start_time": "2024-05-28T00:32:00.214Z"
   },
   {
    "duration": 138,
    "start_time": "2024-05-28T00:32:02.280Z"
   },
   {
    "duration": 291,
    "start_time": "2024-05-28T00:32:04.850Z"
   },
   {
    "duration": 36,
    "start_time": "2024-05-28T00:32:08.802Z"
   },
   {
    "duration": 9,
    "start_time": "2024-05-28T00:32:10.002Z"
   },
   {
    "duration": 11,
    "start_time": "2024-05-28T00:32:11.162Z"
   },
   {
    "duration": 7,
    "start_time": "2024-05-28T00:32:14.066Z"
   },
   {
    "duration": 38,
    "start_time": "2024-05-28T00:32:18.850Z"
   },
   {
    "duration": 345,
    "start_time": "2024-05-28T00:32:21.890Z"
   },
   {
    "duration": 3643,
    "start_time": "2024-05-28T00:32:27.877Z"
   },
   {
    "duration": 7,
    "start_time": "2024-05-28T00:32:39.795Z"
   },
   {
    "duration": 46,
    "start_time": "2024-05-28T00:32:52.310Z"
   },
   {
    "duration": 42,
    "start_time": "2024-05-28T00:33:39.950Z"
   },
   {
    "duration": 10,
    "start_time": "2024-05-28T00:33:47.670Z"
   },
   {
    "duration": 3592,
    "start_time": "2024-05-28T00:33:56.638Z"
   },
   {
    "duration": 2995,
    "start_time": "2024-05-28T00:53:38.576Z"
   },
   {
    "duration": 2986,
    "start_time": "2024-05-28T01:08:20.432Z"
   },
   {
    "duration": 3056,
    "start_time": "2024-05-28T01:10:58.219Z"
   },
   {
    "duration": 4023,
    "start_time": "2024-05-28T01:14:41.942Z"
   },
   {
    "duration": 5204,
    "start_time": "2024-05-28T13:35:00.284Z"
   },
   {
    "duration": 504,
    "start_time": "2024-05-28T13:35:05.492Z"
   },
   {
    "duration": 25,
    "start_time": "2024-05-28T13:35:08.382Z"
   },
   {
    "duration": 20,
    "start_time": "2024-05-28T13:35:10.428Z"
   },
   {
    "duration": 21,
    "start_time": "2024-05-28T13:35:10.972Z"
   },
   {
    "duration": 103,
    "start_time": "2024-05-28T13:35:14.949Z"
   },
   {
    "duration": 173,
    "start_time": "2024-05-28T13:35:16.090Z"
   },
   {
    "duration": 21,
    "start_time": "2024-05-28T13:35:24.037Z"
   },
   {
    "duration": 8,
    "start_time": "2024-05-28T13:35:25.673Z"
   },
   {
    "duration": 8,
    "start_time": "2024-05-28T13:35:28.314Z"
   },
   {
    "duration": 10,
    "start_time": "2024-05-28T13:35:31.665Z"
   },
   {
    "duration": 29,
    "start_time": "2024-05-28T13:35:35.583Z"
   },
   {
    "duration": 280,
    "start_time": "2024-05-28T13:35:39.634Z"
   },
   {
    "duration": 2460,
    "start_time": "2024-05-28T13:35:43.436Z"
   },
   {
    "duration": 6,
    "start_time": "2024-05-28T13:35:51.197Z"
   },
   {
    "duration": 7,
    "start_time": "2024-05-28T13:35:55.361Z"
   },
   {
    "duration": 36,
    "start_time": "2024-05-28T13:36:02.830Z"
   },
   {
    "duration": 11,
    "start_time": "2024-05-28T13:36:26.311Z"
   },
   {
    "duration": 7,
    "start_time": "2024-05-28T14:53:45.616Z"
   },
   {
    "duration": 374,
    "start_time": "2024-05-28T14:53:46.901Z"
   },
   {
    "duration": 21,
    "start_time": "2024-05-28T14:53:48.906Z"
   },
   {
    "duration": 22,
    "start_time": "2024-05-28T14:53:49.905Z"
   },
   {
    "duration": 22,
    "start_time": "2024-05-28T14:53:50.655Z"
   },
   {
    "duration": 104,
    "start_time": "2024-05-28T14:53:52.117Z"
   },
   {
    "duration": 179,
    "start_time": "2024-05-28T14:53:53.628Z"
   },
   {
    "duration": 28,
    "start_time": "2024-05-28T14:53:56.387Z"
   },
   {
    "duration": 5,
    "start_time": "2024-05-28T14:53:57.399Z"
   },
   {
    "duration": 8,
    "start_time": "2024-05-28T14:53:58.207Z"
   },
   {
    "duration": 6,
    "start_time": "2024-05-28T14:53:59.994Z"
   },
   {
    "duration": 21,
    "start_time": "2024-05-28T14:54:02.788Z"
   },
   {
    "duration": 331,
    "start_time": "2024-05-28T14:54:04.177Z"
   },
   {
    "duration": 2433,
    "start_time": "2024-05-28T14:54:06.447Z"
   },
   {
    "duration": 6,
    "start_time": "2024-05-28T14:54:15.153Z"
   },
   {
    "duration": 11,
    "start_time": "2024-05-28T14:54:19.602Z"
   },
   {
    "duration": 59,
    "start_time": "2024-05-28T14:54:24.531Z"
   },
   {
    "duration": 11,
    "start_time": "2024-05-28T14:54:29.605Z"
   },
   {
    "duration": 428,
    "start_time": "2024-05-28T14:56:02.717Z"
   },
   {
    "duration": 15,
    "start_time": "2024-05-28T14:57:18.432Z"
   },
   {
    "duration": 27,
    "start_time": "2024-05-28T15:00:44.047Z"
   },
   {
    "duration": 40,
    "start_time": "2024-05-28T15:01:05.581Z"
   },
   {
    "duration": 2982,
    "start_time": "2024-05-28T15:03:45.563Z"
   },
   {
    "duration": 3053,
    "start_time": "2024-05-28T15:03:51.965Z"
   },
   {
    "duration": 2956,
    "start_time": "2024-05-28T15:04:01.296Z"
   },
   {
    "duration": 3007,
    "start_time": "2024-05-28T15:04:24.485Z"
   },
   {
    "duration": 4179,
    "start_time": "2024-05-28T15:04:34.077Z"
   },
   {
    "duration": 4587,
    "start_time": "2024-05-28T15:08:36.614Z"
   },
   {
    "duration": 4671,
    "start_time": "2024-05-28T15:11:13.828Z"
   },
   {
    "duration": 8,
    "start_time": "2024-05-28T15:15:19.510Z"
   },
   {
    "duration": 9,
    "start_time": "2024-05-28T15:16:05.494Z"
   },
   {
    "duration": 5164,
    "start_time": "2024-05-28T15:17:31.671Z"
   },
   {
    "duration": 4668,
    "start_time": "2024-05-28T15:18:03.714Z"
   },
   {
    "duration": 3514,
    "start_time": "2024-05-28T15:35:33.566Z"
   },
   {
    "duration": 3554,
    "start_time": "2024-05-28T15:35:53.177Z"
   },
   {
    "duration": 4678,
    "start_time": "2024-05-28T16:08:51.667Z"
   },
   {
    "duration": 6,
    "start_time": "2024-05-28T16:10:59.947Z"
   },
   {
    "duration": 360,
    "start_time": "2024-05-28T16:11:01.422Z"
   },
   {
    "duration": 24,
    "start_time": "2024-05-28T16:11:03.799Z"
   },
   {
    "duration": 23,
    "start_time": "2024-05-28T16:11:04.640Z"
   },
   {
    "duration": 21,
    "start_time": "2024-05-28T16:11:05.416Z"
   },
   {
    "duration": 101,
    "start_time": "2024-05-28T16:11:06.918Z"
   },
   {
    "duration": 183,
    "start_time": "2024-05-28T16:11:08.422Z"
   },
   {
    "duration": 25,
    "start_time": "2024-05-28T16:11:11.914Z"
   },
   {
    "duration": 6,
    "start_time": "2024-05-28T16:11:12.741Z"
   },
   {
    "duration": 8,
    "start_time": "2024-05-28T16:11:13.717Z"
   },
   {
    "duration": 7,
    "start_time": "2024-05-28T16:11:16.125Z"
   },
   {
    "duration": 24,
    "start_time": "2024-05-28T16:11:26.538Z"
   },
   {
    "duration": 239,
    "start_time": "2024-05-28T16:11:33.286Z"
   },
   {
    "duration": 2526,
    "start_time": "2024-05-28T16:11:40.949Z"
   },
   {
    "duration": 5,
    "start_time": "2024-05-28T16:11:52.602Z"
   },
   {
    "duration": 8,
    "start_time": "2024-05-28T16:11:57.413Z"
   },
   {
    "duration": 37,
    "start_time": "2024-05-28T16:12:04.820Z"
   },
   {
    "duration": 9,
    "start_time": "2024-05-28T16:12:09.108Z"
   },
   {
    "duration": 4740,
    "start_time": "2024-05-28T16:12:13.813Z"
   },
   {
    "duration": 198,
    "start_time": "2024-05-28T16:18:32.122Z"
   },
   {
    "duration": 5320,
    "start_time": "2024-05-30T15:34:12.906Z"
   },
   {
    "duration": 562,
    "start_time": "2024-05-30T15:34:18.230Z"
   },
   {
    "duration": 26,
    "start_time": "2024-05-30T15:34:20.849Z"
   },
   {
    "duration": 22,
    "start_time": "2024-05-30T15:34:22.694Z"
   },
   {
    "duration": 27,
    "start_time": "2024-05-30T15:34:23.794Z"
   },
   {
    "duration": 132,
    "start_time": "2024-05-30T15:34:26.439Z"
   },
   {
    "duration": 219,
    "start_time": "2024-05-30T15:34:32.712Z"
   },
   {
    "duration": 22,
    "start_time": "2024-05-30T15:34:38.603Z"
   },
   {
    "duration": 8,
    "start_time": "2024-05-30T15:34:39.384Z"
   },
   {
    "duration": 10,
    "start_time": "2024-05-30T15:34:40.309Z"
   },
   {
    "duration": 9,
    "start_time": "2024-05-30T15:34:42.559Z"
   },
   {
    "duration": 30,
    "start_time": "2024-05-30T15:34:47.999Z"
   },
   {
    "duration": 395,
    "start_time": "2024-05-30T15:34:55.831Z"
   },
   {
    "duration": 2531,
    "start_time": "2024-05-30T15:35:04.143Z"
   },
   {
    "duration": 5,
    "start_time": "2024-05-30T15:35:16.336Z"
   },
   {
    "duration": 11,
    "start_time": "2024-05-30T15:35:22.076Z"
   },
   {
    "duration": 440,
    "start_time": "2024-05-30T15:36:41.743Z"
   },
   {
    "duration": 45,
    "start_time": "2024-05-30T15:37:16.888Z"
   },
   {
    "duration": 17,
    "start_time": "2024-05-30T15:37:25.143Z"
   },
   {
    "duration": 8,
    "start_time": "2024-05-30T15:54:03.186Z"
   },
   {
    "duration": 9,
    "start_time": "2024-05-30T15:54:09.044Z"
   },
   {
    "duration": 9,
    "start_time": "2024-05-30T16:22:43.579Z"
   },
   {
    "duration": 1626,
    "start_time": "2024-05-31T03:49:30.348Z"
   },
   {
    "duration": 548,
    "start_time": "2024-05-31T03:49:31.978Z"
   },
   {
    "duration": 25,
    "start_time": "2024-05-31T03:49:32.535Z"
   },
   {
    "duration": 32,
    "start_time": "2024-05-31T03:49:32.563Z"
   },
   {
    "duration": 25,
    "start_time": "2024-05-31T03:49:32.602Z"
   },
   {
    "duration": 139,
    "start_time": "2024-05-31T03:49:32.630Z"
   },
   {
    "duration": 219,
    "start_time": "2024-05-31T03:49:32.776Z"
   },
   {
    "duration": 22,
    "start_time": "2024-05-31T03:49:32.998Z"
   },
   {
    "duration": 6,
    "start_time": "2024-05-31T03:49:33.027Z"
   },
   {
    "duration": 12,
    "start_time": "2024-05-31T03:49:33.036Z"
   },
   {
    "duration": 38,
    "start_time": "2024-05-31T03:49:33.053Z"
   },
   {
    "duration": 32,
    "start_time": "2024-05-31T03:49:33.094Z"
   },
   {
    "duration": 494,
    "start_time": "2024-05-31T03:49:33.128Z"
   },
   {
    "duration": 2611,
    "start_time": "2024-05-31T03:49:33.693Z"
   },
   {
    "duration": 7,
    "start_time": "2024-05-31T03:49:36.309Z"
   },
   {
    "duration": 9,
    "start_time": "2024-05-31T03:49:36.322Z"
   },
   {
    "duration": 75,
    "start_time": "2024-05-31T03:49:36.334Z"
   },
   {
    "duration": 126,
    "start_time": "2024-05-31T03:49:36.412Z"
   },
   {
    "duration": 22,
    "start_time": "2024-05-31T03:49:45.818Z"
   },
   {
    "duration": 4777,
    "start_time": "2024-05-31T03:54:52.429Z"
   },
   {
    "duration": 4686,
    "start_time": "2024-05-31T03:55:10.011Z"
   },
   {
    "duration": 4822,
    "start_time": "2024-05-31T03:55:18.274Z"
   },
   {
    "duration": 1618,
    "start_time": "2024-05-31T03:56:21.062Z"
   },
   {
    "duration": 417,
    "start_time": "2024-05-31T03:56:22.684Z"
   },
   {
    "duration": 27,
    "start_time": "2024-05-31T03:56:23.104Z"
   },
   {
    "duration": 24,
    "start_time": "2024-05-31T03:56:23.134Z"
   },
   {
    "duration": 51,
    "start_time": "2024-05-31T03:56:23.163Z"
   },
   {
    "duration": 129,
    "start_time": "2024-05-31T03:56:23.217Z"
   },
   {
    "duration": 221,
    "start_time": "2024-05-31T03:56:23.350Z"
   },
   {
    "duration": 34,
    "start_time": "2024-05-31T03:56:23.575Z"
   },
   {
    "duration": 9,
    "start_time": "2024-05-31T03:56:23.612Z"
   },
   {
    "duration": 8,
    "start_time": "2024-05-31T03:56:23.624Z"
   },
   {
    "duration": 8,
    "start_time": "2024-05-31T03:56:23.634Z"
   },
   {
    "duration": 69,
    "start_time": "2024-05-31T03:56:23.645Z"
   },
   {
    "duration": 479,
    "start_time": "2024-05-31T03:56:23.719Z"
   },
   {
    "duration": 2523,
    "start_time": "2024-05-31T03:56:24.208Z"
   },
   {
    "duration": 5,
    "start_time": "2024-05-31T03:56:26.734Z"
   },
   {
    "duration": 10,
    "start_time": "2024-05-31T03:56:26.742Z"
   },
   {
    "duration": 66,
    "start_time": "2024-05-31T03:56:26.754Z"
   },
   {
    "duration": 14,
    "start_time": "2024-05-31T03:56:26.823Z"
   },
   {
    "duration": 4948,
    "start_time": "2024-05-31T03:56:26.840Z"
   },
   {
    "duration": 4737,
    "start_time": "2024-05-31T03:59:16.924Z"
   }
  ],
  "kernelspec": {
   "display_name": "Python 3 (ipykernel)",
   "language": "python",
   "name": "python3"
  },
  "language_info": {
   "codemirror_mode": {
    "name": "ipython",
    "version": 3
   },
   "file_extension": ".py",
   "mimetype": "text/x-python",
   "name": "python",
   "nbconvert_exporter": "python",
   "pygments_lexer": "ipython3",
   "version": "3.9.19"
  },
  "toc": {
   "base_numbering": 1,
   "nav_menu": {},
   "number_sections": true,
   "sideBar": true,
   "skip_h1_title": true,
   "title_cell": "Table of Contents",
   "title_sidebar": "Contents",
   "toc_cell": false,
   "toc_position": {},
   "toc_section_display": true,
   "toc_window_display": false
  }
 },
 "nbformat": 4,
 "nbformat_minor": 2
}
